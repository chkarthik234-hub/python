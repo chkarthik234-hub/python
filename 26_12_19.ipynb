{
  "nbformat": 4,
  "nbformat_minor": 0,
  "metadata": {
    "colab": {
      "name": "26-12-19.ipynb",
      "provenance": [],
      "collapsed_sections": [],
      "include_colab_link": true
    },
    "kernelspec": {
      "name": "python3",
      "display_name": "Python 3"
    }
  },
  "cells": [
    {
      "cell_type": "markdown",
      "metadata": {
        "id": "view-in-github",
        "colab_type": "text"
      },
      "source": [
        "<a href=\"https://colab.research.google.com/github/chkarthik234-hub/python/blob/master/26_12_19.ipynb\" target=\"_parent\"><img src=\"https://colab.research.google.com/assets/colab-badge.svg\" alt=\"Open In Colab\"/></a>"
      ]
    },
    {
      "cell_type": "code",
      "metadata": {
        "id": "U0dLrMNpVzHG",
        "colab_type": "code",
        "colab": {
          "base_uri": "https://localhost:8080/",
          "height": 85
        },
        "outputId": "7f4df67f-c4d0-4d0e-c4e1-605baf6a2dc6"
      },
      "source": [
        "# find large number form given 3 numbers\n",
        "p=input(\"enter first number\")\n",
        "q=input(\"enter second number\")\n",
        "r=input(\"enter third number\")\n",
        "if(p>=q) and (p>=r):\n",
        "  print(p)\n",
        "elif(q>=p) and (q>=r):\n",
        "  print(q)\n",
        "else:\n",
        "  print(r)"
      ],
      "execution_count": 6,
      "outputs": [
        {
          "output_type": "stream",
          "text": [
            "enter first number10\n",
            "enter second number20\n",
            "enter third number30\n",
            "30\n"
          ],
          "name": "stdout"
        }
      ]
    },
    {
      "cell_type": "markdown",
      "metadata": {
        "id": "VW8wSAieY3tH",
        "colab_type": "text"
      },
      "source": [
        "#While Statements:\n",
        "## syntax:\n",
        "### while Boolean_condition:<br>\n",
        "    statements<br>\n",
        "    Increment / decrement <br>\n"
      ]
    },
    {
      "cell_type": "code",
      "metadata": {
        "id": "u6DictaXZWDs",
        "colab_type": "code",
        "colab": {
          "base_uri": "https://localhost:8080/",
          "height": 102
        },
        "outputId": "ea93435d-4914-416a-f3d0-249ae8420614"
      },
      "source": [
        "x = 0\n",
        "while x < 5:\n",
        "  print(\"gitam\")\n",
        "  x = x+1"
      ],
      "execution_count": 7,
      "outputs": [
        {
          "output_type": "stream",
          "text": [
            "gitam\n",
            "gitam\n",
            "gitam\n",
            "gitam\n",
            "gitam\n"
          ],
          "name": "stdout"
        }
      ]
    },
    {
      "cell_type": "code",
      "metadata": {
        "id": "-pma6DTTacTv",
        "colab_type": "code",
        "colab": {
          "base_uri": "https://localhost:8080/",
          "height": 51
        },
        "outputId": "170bc7d7-046a-4b51-b143-03cbed98a748"
      },
      "source": [
        "#print a natural number using while loop\n",
        "#input:10\n",
        "#output: 1 2 3 4 5 6 7 8 9 10\n",
        "\n",
        "n=int(input(\"enter a number\"))\n",
        "i=1\n",
        "while(i<=n):\n",
        "  print(i,\"\",end=\"\")\n",
        "  i = i+1"
      ],
      "execution_count": 11,
      "outputs": [
        {
          "output_type": "stream",
          "text": [
            "enter a number10\n",
            "1 2 3 4 5 6 7 8 9 10 "
          ],
          "name": "stdout"
        }
      ]
    },
    {
      "cell_type": "code",
      "metadata": {
        "id": "pH9Uf2Bjcfhj",
        "colab_type": "code",
        "colab": {
          "base_uri": "https://localhost:8080/",
          "height": 51
        },
        "outputId": "f38c09d2-3323-4534-d06e-5476f6c2d203"
      },
      "source": [
        "#add only even number 1 to n\n",
        "#input:10\n",
        "#op:30(2+4+6+8+10)\n",
        "\n",
        "n=int(input(\"enter a number\"))\n",
        "sum=0\n",
        "i=1\n",
        "while(i<=n):\n",
        "  if(i%2==0):\n",
        "    sum=sum+i\n",
        "  i=i+1\n",
        "print(sum)"
      ],
      "execution_count": 16,
      "outputs": [
        {
          "output_type": "stream",
          "text": [
            "enter a number10\n",
            "30\n"
          ],
          "name": "stdout"
        }
      ]
    },
    {
      "cell_type": "code",
      "metadata": {
        "id": "nW8u4NonfKQY",
        "colab_type": "code",
        "colab": {
          "base_uri": "https://localhost:8080/",
          "height": 51
        },
        "outputId": "8f3ea031-85bc-45f4-d8f2-644815f0f6b1"
      },
      "source": [
        "#palindrome\n",
        "#input: 123\n",
        "#output:321\n",
        "\n",
        "n=int(input(\"enter a number\"))\n",
        "while n!=0:\n",
        "  r= n%10\n",
        "  print(r,end=\" \")\n",
        "  n =n//10"
      ],
      "execution_count": 18,
      "outputs": [
        {
          "output_type": "stream",
          "text": [
            "enter a number123\n",
            "3 2 1 "
          ],
          "name": "stdout"
        }
      ]
    },
    {
      "cell_type": "markdown",
      "metadata": {
        "id": "-CU-0NmujwOd",
        "colab_type": "text"
      },
      "source": [
        "# Functional programming:\n",
        "- Simple\n",
        "- Easy Read\n",
        "- Divides large Programs into Small Sub Programs\n",
        "\n"
      ]
    },
    {
      "cell_type": "markdown",
      "metadata": {
        "id": "ntF0XCT3kooS",
        "colab_type": "text"
      },
      "source": [
        "#Syntax\n",
        "\n"
      ]
    },
    {
      "cell_type": "code",
      "metadata": {
        "id": "da6yqII_ksBN",
        "colab_type": "code",
        "colab": {
          "base_uri": "https://localhost:8080/",
          "height": 34
        },
        "outputId": "91afe8a5-a94f-4599-b905-19e65b035167"
      },
      "source": [
        "def addevendigit(n):\n",
        "  sum=0\n",
        "  while n!=0:\n",
        "    r =n%10\n",
        "    if r %2==0:\n",
        "      sum=sum+r\n",
        "    n=n//10\n",
        "  return sum\n",
        "addevendigit(1234)"
      ],
      "execution_count": 25,
      "outputs": [
        {
          "output_type": "execute_result",
          "data": {
            "text/plain": [
              "6"
            ]
          },
          "metadata": {
            "tags": []
          },
          "execution_count": 25
        }
      ]
    },
    {
      "cell_type": "code",
      "metadata": {
        "id": "QKaX_fmamGG2",
        "colab_type": "code",
        "colab": {
          "base_uri": "https://localhost:8080/",
          "height": 34
        },
        "outputId": "7d981840-e19c-4fb4-eec7-fb6ea3af2482"
      },
      "source": [
        "#read input\n",
        "#input 19528\n",
        "#op 9\n",
        "\n",
        "def largestdigit(n):\n",
        "  largest=0\n",
        "  while(n>0):\n",
        "    r=n%10\n",
        "    if(r>largest):\n",
        "      largest=r\n",
        "    n=n//10\n",
        "  return largest\n",
        "largestdigit(19528)"
      ],
      "execution_count": 27,
      "outputs": [
        {
          "output_type": "execute_result",
          "data": {
            "text/plain": [
              "9"
            ]
          },
          "metadata": {
            "tags": []
          },
          "execution_count": 27
        }
      ]
    },
    {
      "cell_type": "code",
      "metadata": {
        "id": "OsbQYa7mpSkP",
        "colab_type": "code",
        "colab": {
          "base_uri": "https://localhost:8080/",
          "height": 34
        },
        "outputId": "db9d6093-448e-4af6-afbb-1bf0c9a60e4d"
      },
      "source": [
        "#reverse\n",
        "#in:123\n",
        "#op:321\n",
        "\n",
        "def palindrome(n):\n",
        "  pal=0\n",
        "  while(n>0):\n",
        "    rem=n%10\n",
        "    pal=pal*10+rem\n",
        "    n=n//10\n",
        "  return pal\n",
        "palindrome(123)\n"
      ],
      "execution_count": 37,
      "outputs": [
        {
          "output_type": "execute_result",
          "data": {
            "text/plain": [
              "321"
            ]
          },
          "metadata": {
            "tags": []
          },
          "execution_count": 37
        }
      ]
    },
    {
      "cell_type": "code",
      "metadata": {
        "id": "PK7va2kdusOo",
        "colab_type": "code",
        "colab": {
          "base_uri": "https://localhost:8080/",
          "height": 51
        },
        "outputId": "960da888-00f5-489d-f62c-e1ef727bab36"
      },
      "source": [
        "#palindrome or not\n",
        "#ip:121--121--yes\n",
        "#op:121--321--no\n",
        "\n",
        "def ispalindrome(n):\n",
        "  rev=0\n",
        "  buffer=n\n",
        "  while n!=0:\n",
        "    r=n%10\n",
        "    rev=rev*10+r\n",
        "    n=n//10\n",
        "  if buffer == rev:\n",
        "    return \"yes\"\n",
        "  else:\n",
        "    return \"no\"\n",
        "print(ispalindrome(123))\n",
        "print(ispalindrome(121))\n"
      ],
      "execution_count": 43,
      "outputs": [
        {
          "output_type": "stream",
          "text": [
            "no\n",
            "yes\n"
          ],
          "name": "stdout"
        }
      ]
    },
    {
      "cell_type": "code",
      "metadata": {
        "id": "5yfDKzHWyAHO",
        "colab_type": "code",
        "colab": {
          "base_uri": "https://localhost:8080/",
          "height": 34
        },
        "outputId": "9ac9a1c7-4dd1-4520-f385-b12da7bbf8a7"
      },
      "source": [
        "#function to print natural number\n",
        "\n",
        "def natural(n):\n",
        "  for i in range(1,n+1):\n",
        "    print(i,end=\" \")\n",
        "natural(10)"
      ],
      "execution_count": 46,
      "outputs": [
        {
          "output_type": "stream",
          "text": [
            "1 2 3 4 5 6 7 8 9 10 "
          ],
          "name": "stdout"
        }
      ]
    },
    {
      "cell_type": "code",
      "metadata": {
        "id": "To4zVjKqz5vM",
        "colab_type": "code",
        "colab": {
          "base_uri": "https://localhost:8080/",
          "height": 34
        },
        "outputId": "05c3b7bb-aeaf-4f50-f82a-64e5623e3b72"
      },
      "source": [
        "\n",
        "def natural(l,b):\n",
        "  for i in range(l,b+1):\n",
        "    print(i,end=\" \")\n",
        "natural(11,25)"
      ],
      "execution_count": 48,
      "outputs": [
        {
          "output_type": "stream",
          "text": [
            "11 12 13 14 15 16 17 18 19 20 21 22 23 24 25 "
          ],
          "name": "stdout"
        }
      ]
    },
    {
      "cell_type": "code",
      "metadata": {
        "id": "c50F7MBd1T02",
        "colab_type": "code",
        "colab": {
          "base_uri": "https://localhost:8080/",
          "height": 34
        },
        "outputId": "3bfa063b-3004-469d-ca91-fe80ea2dae12"
      },
      "source": [
        "def natural(l,b):\n",
        "  for i in range(l,b+1,4):\n",
        "    print(i,end=\" \")\n",
        "natural(11,25)\n"
      ],
      "execution_count": 50,
      "outputs": [
        {
          "output_type": "stream",
          "text": [
            "11 15 19 23 "
          ],
          "name": "stdout"
        }
      ]
    },
    {
      "cell_type": "code",
      "metadata": {
        "id": "XOQUgFK12F7N",
        "colab_type": "code",
        "colab": {
          "base_uri": "https://localhost:8080/",
          "height": 34
        },
        "outputId": "118c439c-183e-4062-c1c7-3999c118f98f"
      },
      "source": [
        "#using fuction\n",
        "\n",
        "def reverserange(start,end):\n",
        "  for i in range(end,start-1,-1):\n",
        "    print(i,end=\" \")\n",
        "reverserange(1,10)\n"
      ],
      "execution_count": 51,
      "outputs": [
        {
          "output_type": "stream",
          "text": [
            "10 9 8 7 6 5 4 3 2 1 "
          ],
          "name": "stdout"
        }
      ]
    },
    {
      "cell_type": "markdown",
      "metadata": {
        "id": "kXj2AHOk4tCM",
        "colab_type": "text"
      },
      "source": [
        "# Data Structures\n",
        "- list\n",
        "- tuple\n",
        "- dictionary\n"
      ]
    },
    {
      "cell_type": "markdown",
      "metadata": {
        "id": "8fr2ShgF5Eu5",
        "colab_type": "text"
      },
      "source": [
        "# List:\n",
        "- its one data structure in python,the items are separated by comma and      enclosed by [ ]\n",
        "- crud operations\n",
        "- c=create\n",
        "- r=read\n",
        "- u=update\n",
        "- d=delete\n",
        "- list can be changed\n",
        "## Example:\n",
        "- list=[1,2,3,4]"
      ]
    },
    {
      "cell_type": "code",
      "metadata": {
        "id": "GuVGFoM36xvo",
        "colab_type": "code",
        "colab": {}
      },
      "source": [
        ""
      ],
      "execution_count": 0,
      "outputs": []
    }
  ]
}