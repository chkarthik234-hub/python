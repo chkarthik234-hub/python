{
  "nbformat": 4,
  "nbformat_minor": 0,
  "metadata": {
    "colab": {
      "name": "26-12-19.ipynb",
      "provenance": [],
      "collapsed_sections": [],
      "include_colab_link": true
    },
    "kernelspec": {
      "name": "python3",
      "display_name": "Python 3"
    }
  },
  "cells": [
    {
      "cell_type": "markdown",
      "metadata": {
        "id": "view-in-github",
        "colab_type": "text"
      },
      "source": [
        "<a href=\"https://colab.research.google.com/github/chkarthik234-hub/python/blob/master/26_12_19.ipynb\" target=\"_parent\"><img src=\"https://colab.research.google.com/assets/colab-badge.svg\" alt=\"Open In Colab\"/></a>"
      ]
    },
    {
      "cell_type": "code",
      "metadata": {
        "id": "U0dLrMNpVzHG",
        "colab_type": "code",
        "colab": {
          "base_uri": "https://localhost:8080/",
          "height": 85
        },
        "outputId": "7f4df67f-c4d0-4d0e-c4e1-605baf6a2dc6"
      },
      "source": [
        "# find large number form given 3 numbers\n",
        "p=input(\"enter first number\")\n",
        "q=input(\"enter second number\")\n",
        "r=input(\"enter third number\")\n",
        "if(p>=q) and (p>=r):\n",
        "  print(p)\n",
        "elif(q>=p) and (q>=r):\n",
        "  print(q)\n",
        "else:\n",
        "  print(r)"
      ],
      "execution_count": 6,
      "outputs": [
        {
          "output_type": "stream",
          "text": [
            "enter first number10\n",
            "enter second number20\n",
            "enter third number30\n",
            "30\n"
          ],
          "name": "stdout"
        }
      ]
    },
    {
      "cell_type": "markdown",
      "metadata": {
        "id": "VW8wSAieY3tH",
        "colab_type": "text"
      },
      "source": [
        "#While Statements:\n",
        "## syntax:\n",
        "### while Boolean_condition:<br>\n",
        "    statements<br>\n",
        "    Increment / decrement <br>\n"
      ]
    },
    {
      "cell_type": "code",
      "metadata": {
        "id": "u6DictaXZWDs",
        "colab_type": "code",
        "colab": {
          "base_uri": "https://localhost:8080/",
          "height": 102
        },
        "outputId": "ea93435d-4914-416a-f3d0-249ae8420614"
      },
      "source": [
        "x = 0\n",
        "while x < 5:\n",
        "  print(\"gitam\")\n",
        "  x = x+1"
      ],
      "execution_count": 7,
      "outputs": [
        {
          "output_type": "stream",
          "text": [
            "gitam\n",
            "gitam\n",
            "gitam\n",
            "gitam\n",
            "gitam\n"
          ],
          "name": "stdout"
        }
      ]
    },
    {
      "cell_type": "code",
      "metadata": {
        "id": "-pma6DTTacTv",
        "colab_type": "code",
        "colab": {
          "base_uri": "https://localhost:8080/",
          "height": 51
        },
        "outputId": "170bc7d7-046a-4b51-b143-03cbed98a748"
      },
      "source": [
        "#print a natural number using while loop\n",
        "#input:10\n",
        "#output: 1 2 3 4 5 6 7 8 9 10\n",
        "\n",
        "n=int(input(\"enter a number\"))\n",
        "i=1\n",
        "while(i<=n):\n",
        "  print(i,\"\",end=\"\")\n",
        "  i = i+1"
      ],
      "execution_count": 11,
      "outputs": [
        {
          "output_type": "stream",
          "text": [
            "enter a number10\n",
            "1 2 3 4 5 6 7 8 9 10 "
          ],
          "name": "stdout"
        }
      ]
    },
    {
      "cell_type": "code",
      "metadata": {
        "id": "pH9Uf2Bjcfhj",
        "colab_type": "code",
        "colab": {
          "base_uri": "https://localhost:8080/",
          "height": 51
        },
        "outputId": "f38c09d2-3323-4534-d06e-5476f6c2d203"
      },
      "source": [
        "#add only even number 1 to n\n",
        "#input:10\n",
        "#op:30(2+4+6+8+10)\n",
        "\n",
        "n=int(input(\"enter a number\"))\n",
        "sum=0\n",
        "i=1\n",
        "while(i<=n):\n",
        "  if(i%2==0):\n",
        "    sum=sum+i\n",
        "  i=i+1\n",
        "print(sum)"
      ],
      "execution_count": 16,
      "outputs": [
        {
          "output_type": "stream",
          "text": [
            "enter a number10\n",
            "30\n"
          ],
          "name": "stdout"
        }
      ]
    },
    {
      "cell_type": "code",
      "metadata": {
        "id": "nW8u4NonfKQY",
        "colab_type": "code",
        "colab": {
          "base_uri": "https://localhost:8080/",
          "height": 51
        },
        "outputId": "8f3ea031-85bc-45f4-d8f2-644815f0f6b1"
      },
      "source": [
        "#palindrome\n",
        "#input: 123\n",
        "#output:321\n",
        "\n",
        "n=int(input(\"enter a number\"))\n",
        "while n!=0:\n",
        "  r= n%10\n",
        "  print(r,end=\" \")\n",
        "  n =n//10"
      ],
      "execution_count": 18,
      "outputs": [
        {
          "output_type": "stream",
          "text": [
            "enter a number123\n",
            "3 2 1 "
          ],
          "name": "stdout"
        }
      ]
    },
    {
      "cell_type": "markdown",
      "metadata": {
        "id": "-CU-0NmujwOd",
        "colab_type": "text"
      },
      "source": [
        "# Functional programming:\n",
        "- Simple\n",
        "- Easy Read\n",
        "- Divides large Programs into Small Sub Programs\n",
        "\n"
      ]
    },
    {
      "cell_type": "markdown",
      "metadata": {
        "id": "ntF0XCT3kooS",
        "colab_type": "text"
      },
      "source": [
        "#Syntax\n",
        "\n"
      ]
    },
    {
      "cell_type": "code",
      "metadata": {
        "id": "da6yqII_ksBN",
        "colab_type": "code",
        "colab": {
          "base_uri": "https://localhost:8080/",
          "height": 34
        },
        "outputId": "91afe8a5-a94f-4599-b905-19e65b035167"
      },
      "source": [
        "def addevendigit(n):\n",
        "  sum=0\n",
        "  while n!=0:\n",
        "    r =n%10\n",
        "    if r %2==0:\n",
        "      sum=sum+r\n",
        "    n=n//10\n",
        "  return sum\n",
        "addevendigit(1234)"
      ],
      "execution_count": 25,
      "outputs": [
        {
          "output_type": "execute_result",
          "data": {
            "text/plain": [
              "6"
            ]
          },
          "metadata": {
            "tags": []
          },
          "execution_count": 25
        }
      ]
    },
    {
      "cell_type": "code",
      "metadata": {
        "id": "QKaX_fmamGG2",
        "colab_type": "code",
        "colab": {
          "base_uri": "https://localhost:8080/",
          "height": 34
        },
        "outputId": "7d981840-e19c-4fb4-eec7-fb6ea3af2482"
      },
      "source": [
        "#read input\n",
        "#input 19528\n",
        "#op 9\n",
        "\n",
        "def largestdigit(n):\n",
        "  largest=0\n",
        "  while(n>0):\n",
        "    r=n%10\n",
        "    if(r>largest):\n",
        "      largest=r\n",
        "    n=n//10\n",
        "  return largest\n",
        "largestdigit(19528)"
      ],
      "execution_count": 27,
      "outputs": [
        {
          "output_type": "execute_result",
          "data": {
            "text/plain": [
              "9"
            ]
          },
          "metadata": {
            "tags": []
          },
          "execution_count": 27
        }
      ]
    },
    {
      "cell_type": "code",
      "metadata": {
        "id": "OsbQYa7mpSkP",
        "colab_type": "code",
        "colab": {}
      },
      "source": [
        ""
      ],
      "execution_count": 0,
      "outputs": []
    }
  ]
}