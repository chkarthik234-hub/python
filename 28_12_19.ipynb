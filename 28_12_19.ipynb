{
  "nbformat": 4,
  "nbformat_minor": 0,
  "metadata": {
    "colab": {
      "name": "28-12-19.ipynb",
      "provenance": [],
      "collapsed_sections": [],
      "include_colab_link": true
    },
    "kernelspec": {
      "name": "python3",
      "display_name": "Python 3"
    }
  },
  "cells": [
    {
      "cell_type": "markdown",
      "metadata": {
        "id": "view-in-github",
        "colab_type": "text"
      },
      "source": [
        "<a href=\"https://colab.research.google.com/github/chkarthik234-hub/python/blob/master/28_12_19.ipynb\" target=\"_parent\"><img src=\"https://colab.research.google.com/assets/colab-badge.svg\" alt=\"Open In Colab\"/></a>"
      ]
    },
    {
      "cell_type": "code",
      "metadata": {
        "id": "B4ALo5dKry_D",
        "colab_type": "code",
        "colab": {
          "base_uri": "https://localhost:8080/",
          "height": 34
        },
        "outputId": "e8e47776-7093-4b82-e391-bad396b40abf"
      },
      "source": [
        "def string(str):\n",
        "  li=list(str)\n",
        "  print(li[::2])\n",
        "string(\"pynative\")\n"
      ],
      "execution_count": 24,
      "outputs": [
        {
          "output_type": "stream",
          "text": [
            "['p', 'n', 't', 'v']\n"
          ],
          "name": "stdout"
        }
      ]
    },
    {
      "cell_type": "code",
      "metadata": {
        "id": "pa-zNYQUsl7B",
        "colab_type": "code",
        "colab": {
          "base_uri": "https://localhost:8080/",
          "height": 34
        },
        "outputId": "d675a128-05b2-442d-d777-c16d00b407e9"
      },
      "source": [
        "def lists(n):\n",
        "  if(n[0]==n[-1]):\n",
        "    return \"true\"\n",
        "  else:\n",
        "    return \"false\"\n",
        "lists([1,3,5,7,1])"
      ],
      "execution_count": 14,
      "outputs": [
        {
          "output_type": "execute_result",
          "data": {
            "text/plain": [
              "'true'"
            ]
          },
          "metadata": {
            "tags": []
          },
          "execution_count": 14
        }
      ]
    },
    {
      "cell_type": "code",
      "metadata": {
        "id": "6uyQouXAs4uN",
        "colab_type": "code",
        "colab": {
          "base_uri": "https://localhost:8080/",
          "height": 204
        },
        "outputId": "e41f818e-6827-4916-bb4e-952d9dea10a9"
      },
      "source": [
        "#1\n",
        "#22\n",
        "#333\n",
        "#4444\n",
        "#55555\n",
        "\n",
        "for i in range(1,6):\n",
        "  print(\"\\n\")\n",
        "  for j in range(1,i+1):\n",
        "    print(i,end=\" \")"
      ],
      "execution_count": 35,
      "outputs": [
        {
          "output_type": "stream",
          "text": [
            "\n",
            "\n",
            "1 \n",
            "\n",
            "2 2 \n",
            "\n",
            "3 3 3 \n",
            "\n",
            "4 4 4 4 \n",
            "\n",
            "5 5 5 5 5 "
          ],
          "name": "stdout"
        }
      ]
    },
    {
      "cell_type": "code",
      "metadata": {
        "id": "xWLnSkuZvkkD",
        "colab_type": "code",
        "colab": {
          "base_uri": "https://localhost:8080/",
          "height": 85
        },
        "outputId": "282283a2-af05-4ce3-9937-0bee9bc4bba0"
      },
      "source": [
        "y = int(input(\"enter a year\"))\n",
        "r = input(\"enter your name\")\n",
        "e = int(input(\"enter your present age\"))\n",
        "print(\"year after 100 years\",y-e+100)"
      ],
      "execution_count": 33,
      "outputs": [
        {
          "output_type": "stream",
          "text": [
            "enter a year2000\n",
            "enter your namekarthik\n",
            "enter your present age19\n",
            "year after 100 years 2081\n"
          ],
          "name": "stdout"
        }
      ]
    },
    {
      "cell_type": "code",
      "metadata": {
        "id": "zQBPKvG5xwg_",
        "colab_type": "code",
        "colab": {}
      },
      "source": [
        ""
      ],
      "execution_count": 0,
      "outputs": []
    }
  ]
}