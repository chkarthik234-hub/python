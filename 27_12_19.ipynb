{
  "nbformat": 4,
  "nbformat_minor": 0,
  "metadata": {
    "colab": {
      "name": "27-12-19.ipynb",
      "provenance": [],
      "collapsed_sections": [],
      "include_colab_link": true
    },
    "kernelspec": {
      "name": "python3",
      "display_name": "Python 3"
    }
  },
  "cells": [
    {
      "cell_type": "markdown",
      "metadata": {
        "id": "view-in-github",
        "colab_type": "text"
      },
      "source": [
        "<a href=\"https://colab.research.google.com/github/chkarthik234-hub/python/blob/master/27_12_19.ipynb\" target=\"_parent\"><img src=\"https://colab.research.google.com/assets/colab-badge.svg\" alt=\"Open In Colab\"/></a>"
      ]
    },
    {
      "cell_type": "markdown",
      "metadata": {
        "id": "7Mlxmc-5dOHt",
        "colab_type": "text"
      },
      "source": [
        "# list Examples"
      ]
    },
    {
      "cell_type": "code",
      "metadata": {
        "id": "xPnGGtGgdSRd",
        "colab_type": "code",
        "colab": {
          "base_uri": "https://localhost:8080/",
          "height": 136
        },
        "outputId": "996050ad-bc8e-45ce-e57c-7c567846b15c"
      },
      "source": [
        "li=[\"gitam\",123,124,1323,1232,3451]\n",
        "print(li)\n",
        "print(li[1])\n",
        "print(li[2:])#values after 2\n",
        "print(li[2:4])#4 excluded\n",
        "print(li[-1])\n",
        "print(li[-4:-1])\n",
        "print(li[::-1])#reverse\n"
      ],
      "execution_count": 39,
      "outputs": [
        {
          "output_type": "stream",
          "text": [
            "['gitam', 123, 124, 1323, 1232, 3451]\n",
            "123\n",
            "[124, 1323, 1232, 3451]\n",
            "[124, 1323]\n",
            "3451\n",
            "[124, 1323, 1232]\n",
            "[3451, 1232, 1323, 124, 123, 'gitam']\n"
          ],
          "name": "stdout"
        }
      ]
    },
    {
      "cell_type": "code",
      "metadata": {
        "id": "9pWfmnkedh3n",
        "colab_type": "code",
        "colab": {
          "base_uri": "https://localhost:8080/",
          "height": 34
        },
        "outputId": "b061b6cb-4c77-46ff-8d1b-3f7cc6c6b38f"
      },
      "source": [
        "# update\n",
        "#li=[\"gitam\",123,124,1323,1232,3451]\n",
        "\n",
        "li[0]=\"karthik\"\n",
        "print(li)"
      ],
      "execution_count": 3,
      "outputs": [
        {
          "output_type": "stream",
          "text": [
            "['karthik', 123, 124, 1323, 1232, 3451]\n"
          ],
          "name": "stdout"
        }
      ]
    },
    {
      "cell_type": "code",
      "metadata": {
        "id": "UbNP8tGGd0rk",
        "colab_type": "code",
        "colab": {
          "base_uri": "https://localhost:8080/",
          "height": 34
        },
        "outputId": "756e090a-d66b-48e4-f594-2ecb1fba867b"
      },
      "source": [
        "#delete\n",
        "#li=[\"gitam\",123,124,1323,1232,3451]\n",
        "\n",
        "del li[3]\n",
        "print(li)"
      ],
      "execution_count": 4,
      "outputs": [
        {
          "output_type": "stream",
          "text": [
            "['karthik', 123, 124, 1232, 3451]\n"
          ],
          "name": "stdout"
        }
      ]
    },
    {
      "cell_type": "code",
      "metadata": {
        "id": "v6emMZ0Af8Rm",
        "colab_type": "code",
        "colab": {
          "base_uri": "https://localhost:8080/",
          "height": 85
        },
        "outputId": "4cc7ee33-0b5f-4ff3-809d-ef412a1df0ba"
      },
      "source": [
        "li=[1,23,3,4,545]\n",
        "print(len(li))\n",
        "print(li*2)\n",
        "print(5 in li)\n",
        "print(4 in li)"
      ],
      "execution_count": 7,
      "outputs": [
        {
          "output_type": "stream",
          "text": [
            "5\n",
            "[1, 23, 3, 4, 545, 1, 23, 3, 4, 545]\n",
            "False\n",
            "True\n"
          ],
          "name": "stdout"
        }
      ]
    },
    {
      "cell_type": "markdown",
      "metadata": {
        "id": "XsueuX6rgv80",
        "colab_type": "text"
      },
      "source": [
        "# Basic List Functions"
      ]
    },
    {
      "cell_type": "code",
      "metadata": {
        "id": "RmawkEPGgzi5",
        "colab_type": "code",
        "colab": {
          "base_uri": "https://localhost:8080/",
          "height": 85
        },
        "outputId": "cee76b81-c53e-4a1b-f2e0-c20a80808d30"
      },
      "source": [
        "li=[1,2,3,4,5,6]\n",
        "print(max(li))\n",
        "print(min(li))\n",
        "print(sum(li))\n",
        "print(sum(li)/len(li))"
      ],
      "execution_count": 17,
      "outputs": [
        {
          "output_type": "stream",
          "text": [
            "6\n",
            "1\n",
            "21\n",
            "3.5\n"
          ],
          "name": "stdout"
        }
      ]
    },
    {
      "cell_type": "code",
      "metadata": {
        "id": "vtx2j2gmg4_n",
        "colab_type": "code",
        "colab": {
          "base_uri": "https://localhost:8080/",
          "height": 51
        },
        "outputId": "a1c6b21a-a53f-4f95-87a1-6e8778f7d573"
      },
      "source": [
        "li=[1,2,3,4,5,6]\n",
        "li.append(29)#adding a new value at the end of the list\n",
        "print(li)\n",
        "li.insert(2,56)\n",
        "print(li)"
      ],
      "execution_count": 19,
      "outputs": [
        {
          "output_type": "stream",
          "text": [
            "[1, 2, 3, 4, 5, 6, 29]\n",
            "[1, 2, 56, 3, 4, 5, 6, 29]\n"
          ],
          "name": "stdout"
        }
      ]
    },
    {
      "cell_type": "code",
      "metadata": {
        "id": "HM9_thaSipZK",
        "colab_type": "code",
        "colab": {
          "base_uri": "https://localhost:8080/",
          "height": 68
        },
        "outputId": "1c7984fa-5f23-4543-bcb4-7b1f82f4a684"
      },
      "source": [
        "li=[1, 2, 3, 4, 5, 6, 29]\n",
        "li.sort()#sorts list in ascending order\n",
        "print(li)\n",
        "li.pop()#last index will be deleted\n",
        "print(li)\n",
        "li.pop(1)#removes items from specified index\n",
        "print(li)\n"
      ],
      "execution_count": 21,
      "outputs": [
        {
          "output_type": "stream",
          "text": [
            "[1, 2, 3, 4, 5, 6, 29]\n",
            "[1, 2, 3, 4, 5, 6]\n",
            "[1, 3, 4, 5, 6]\n"
          ],
          "name": "stdout"
        }
      ]
    },
    {
      "cell_type": "code",
      "metadata": {
        "id": "8bIclp-Sj2zq",
        "colab_type": "code",
        "colab": {
          "base_uri": "https://localhost:8080/",
          "height": 51
        },
        "outputId": "96438b41-ba87-409c-ff33-feb86e5fa7b2"
      },
      "source": [
        "#function to return large number from list\n",
        "\n",
        "def largenumber(li):\n",
        "  li.sort()\n",
        "  return li[-1]\n",
        "def genericlarge(li,n):\n",
        "  li.sort()\n",
        "  return li[-n] #+ for strting #- for back start\n",
        "li=[19,1,3,87,32,21,36]\n",
        "print(largenumber(li))\n",
        "print(genericlarge(li,4))"
      ],
      "execution_count": 27,
      "outputs": [
        {
          "output_type": "stream",
          "text": [
            "87\n",
            "21\n"
          ],
          "name": "stdout"
        }
      ]
    },
    {
      "cell_type": "code",
      "metadata": {
        "id": "MN0NnAX8lKzl",
        "colab_type": "code",
        "colab": {
          "base_uri": "https://localhost:8080/",
          "height": 51
        },
        "outputId": "30716524-05ce-4781-dd5c-5b5610ee20d9"
      },
      "source": [
        "def smallnumber(li):\n",
        "  li.sort()\n",
        "  return li[0]\n",
        "def genericsmall(n):\n",
        "  li.sort()\n",
        "  return li[n-1]\n",
        "li=[19,1,3,87,32,21,36]\n",
        "print(smallnumber(li))\n",
        "print(genericsmall(4))"
      ],
      "execution_count": 31,
      "outputs": [
        {
          "output_type": "stream",
          "text": [
            "1\n",
            "21\n"
          ],
          "name": "stdout"
        }
      ]
    },
    {
      "cell_type": "markdown",
      "metadata": {
        "id": "KOUWHovUojca",
        "colab_type": "text"
      },
      "source": [
        "# Tuples\n",
        "- values separated by comma and enclosed by paranthesis( ) \n",
        "- values cannot be changed i.e immutable\n",
        "# Difference b/w list and tuple\n",
        "- list can be modified\n",
        "- list used to modify,add,delete,update\n",
        "- tuple cannot be modified\n",
        "- used to acess data only"
      ]
    },
    {
      "cell_type": "code",
      "metadata": {
        "id": "UBcHanU2oTWr",
        "colab_type": "code",
        "colab": {
          "base_uri": "https://localhost:8080/",
          "height": 51
        },
        "outputId": "f1751163-3c18-4180-81b9-41098b649615"
      },
      "source": [
        "t1=(1,2,3,4,5)\n",
        "print(t1)\n",
        "print(type(t1))"
      ],
      "execution_count": 33,
      "outputs": [
        {
          "output_type": "stream",
          "text": [
            "(1, 2, 3, 4, 5)\n",
            "<class 'tuple'>\n"
          ],
          "name": "stdout"
        }
      ]
    },
    {
      "cell_type": "markdown",
      "metadata": {
        "id": "fesziIaas407",
        "colab_type": "text"
      },
      "source": [
        "# Dictionaries\n",
        "- it works on concept of set unidue data\n",
        "- it conatains keys and values\n",
        "- each key is separated from its values with colon ' : '\n",
        "- each key and values separated by comma\n",
        "- dictionary enclosed by {}\n"
      ]
    },
    {
      "cell_type": "code",
      "metadata": {
        "id": "CEzLzTR1t753",
        "colab_type": "code",
        "colab": {
          "base_uri": "https://localhost:8080/",
          "height": 34
        },
        "outputId": "857baf38-f0c9-47ea-c538-37e014e278be"
      },
      "source": [
        "d1 ={\"name\":\"gitam\",\"email\":\"gitam@gmail.com\",\"address\":\"hyderabd\"}\n",
        "print(d1)"
      ],
      "execution_count": 57,
      "outputs": [
        {
          "output_type": "stream",
          "text": [
            "{'name': 'gitam', 'email': 'gitam@gmail.com', 'address': 'hyderabd'}\n"
          ],
          "name": "stdout"
        }
      ]
    },
    {
      "cell_type": "code",
      "metadata": {
        "id": "1Odd7w2nuUkI",
        "colab_type": "code",
        "colab": {
          "base_uri": "https://localhost:8080/",
          "height": 34
        },
        "outputId": "ee31087f-3300-42d3-b4a9-1146f9eeaff3"
      },
      "source": [
        "d1[\"name\"]"
      ],
      "execution_count": 63,
      "outputs": [
        {
          "output_type": "execute_result",
          "data": {
            "text/plain": [
              "'gitam'"
            ]
          },
          "metadata": {
            "tags": []
          },
          "execution_count": 63
        }
      ]
    },
    {
      "cell_type": "code",
      "metadata": {
        "id": "iY_Hgnn0u4WC",
        "colab_type": "code",
        "colab": {
          "base_uri": "https://localhost:8080/",
          "height": 34
        },
        "outputId": "9e2d3f60-1d89-4cfc-ff4d-dfca23cceb73"
      },
      "source": [
        "d1 ={\"name\":\"gitam\",\"email\":\"gitam@gmail.com\",\"address\":\"hyderabd\"}\n",
        "d1[\"email\"]=\"gitamhyd@gitam.in\"\n",
        "print(d1)"
      ],
      "execution_count": 64,
      "outputs": [
        {
          "output_type": "stream",
          "text": [
            "{'name': 'gitam', 'email': 'gitamhyd@gitam.in', 'address': 'hyderabd'}\n"
          ],
          "name": "stdout"
        }
      ]
    },
    {
      "cell_type": "code",
      "metadata": {
        "id": "XS5MhI2ZwDv9",
        "colab_type": "code",
        "colab": {
          "base_uri": "https://localhost:8080/",
          "height": 34
        },
        "outputId": "acdef889-cac2-47e4-c678-e94a1495d8f6"
      },
      "source": [
        "#delete\n",
        "\n",
        "del d1[\"email\"]\n",
        "d1"
      ],
      "execution_count": 65,
      "outputs": [
        {
          "output_type": "execute_result",
          "data": {
            "text/plain": [
              "{'address': 'hyderabd', 'name': 'gitam'}"
            ]
          },
          "metadata": {
            "tags": []
          },
          "execution_count": 65
        }
      ]
    },
    {
      "cell_type": "code",
      "metadata": {
        "id": "vSo3NJLOxBNM",
        "colab_type": "code",
        "colab": {
          "base_uri": "https://localhost:8080/",
          "height": 34
        },
        "outputId": "72e12e78-ffca-4ce5-b7b4-54e3bb14b843"
      },
      "source": [
        "#insert\n",
        "\n",
        "d1[\"course\"]=\"python\"\n",
        "d1"
      ],
      "execution_count": 67,
      "outputs": [
        {
          "output_type": "execute_result",
          "data": {
            "text/plain": [
              "{'address': 'hyderabd', 'course': 'python', 'name': 'gitam'}"
            ]
          },
          "metadata": {
            "tags": []
          },
          "execution_count": 67
        }
      ]
    },
    {
      "cell_type": "code",
      "metadata": {
        "id": "o9vUA--KxKnY",
        "colab_type": "code",
        "colab": {
          "base_uri": "https://localhost:8080/",
          "height": 34
        },
        "outputId": "27ba1f88-3eb7-4014-ed53-9136c8395c6f"
      },
      "source": [
        "d1.keys()"
      ],
      "execution_count": 68,
      "outputs": [
        {
          "output_type": "execute_result",
          "data": {
            "text/plain": [
              "dict_keys(['name', 'address', 'course'])"
            ]
          },
          "metadata": {
            "tags": []
          },
          "execution_count": 68
        }
      ]
    },
    {
      "cell_type": "code",
      "metadata": {
        "id": "KgFq3HYZy9oj",
        "colab_type": "code",
        "colab": {
          "base_uri": "https://localhost:8080/",
          "height": 34
        },
        "outputId": "45884802-e1a0-462c-abaf-e9623314bb1a"
      },
      "source": [
        "d1.values()"
      ],
      "execution_count": 69,
      "outputs": [
        {
          "output_type": "execute_result",
          "data": {
            "text/plain": [
              "dict_values(['gitam', 'hyderabd', 'python'])"
            ]
          },
          "metadata": {
            "tags": []
          },
          "execution_count": 69
        }
      ]
    },
    {
      "cell_type": "code",
      "metadata": {
        "id": "jkULxNsxy_4H",
        "colab_type": "code",
        "colab": {
          "base_uri": "https://localhost:8080/",
          "height": 34
        },
        "outputId": "b1ab34f1-90fa-4ff9-d3f6-32ef87bb6e97"
      },
      "source": [
        "d1.items()"
      ],
      "execution_count": 70,
      "outputs": [
        {
          "output_type": "execute_result",
          "data": {
            "text/plain": [
              "dict_items([('name', 'gitam'), ('address', 'hyderabd'), ('course', 'python')])"
            ]
          },
          "metadata": {
            "tags": []
          },
          "execution_count": 70
        }
      ]
    },
    {
      "cell_type": "markdown",
      "metadata": {
        "id": "VDzFMvY_zftG",
        "colab_type": "text"
      },
      "source": [
        "# String\n"
      ]
    },
    {
      "cell_type": "code",
      "metadata": {
        "id": "YHeXmzjqzkE_",
        "colab_type": "code",
        "colab": {
          "base_uri": "https://localhost:8080/",
          "height": 51
        },
        "outputId": "6455f789-3ceb-4e2e-de5a-526375b6f24c"
      },
      "source": [
        "s1='python'\n",
        "print(s1)\n",
        "print(type(s1))"
      ],
      "execution_count": 72,
      "outputs": [
        {
          "output_type": "stream",
          "text": [
            "python\n",
            "<class 'str'>\n"
          ],
          "name": "stdout"
        }
      ]
    },
    {
      "cell_type": "code",
      "metadata": {
        "id": "R3Cp_rp-zp2E",
        "colab_type": "code",
        "colab": {
          "base_uri": "https://localhost:8080/",
          "height": 85
        },
        "outputId": "b4748097-2982-477a-d411-8b93de528582"
      },
      "source": [
        "s1='python'\n",
        "print(s1[0])\n",
        "print(s1[4])\n",
        "print(s1[2:])\n",
        "print(s1[::-1])"
      ],
      "execution_count": 76,
      "outputs": [
        {
          "output_type": "stream",
          "text": [
            "p\n",
            "o\n",
            "thon\n",
            "nohtyp\n"
          ],
          "name": "stdout"
        }
      ]
    },
    {
      "cell_type": "code",
      "metadata": {
        "id": "U6F95vFi0A_m",
        "colab_type": "code",
        "colab": {
          "base_uri": "https://localhost:8080/",
          "height": 51
        },
        "outputId": "33ed483b-09e5-4944-f3f0-6c8f7c2f9e10"
      },
      "source": [
        "s1='python'\n",
        "print(s1[len(s1)//2])\n",
        "print(s1[0:6:5])"
      ],
      "execution_count": 82,
      "outputs": [
        {
          "output_type": "stream",
          "text": [
            "h\n",
            "pn\n"
          ],
          "name": "stdout"
        }
      ]
    },
    {
      "cell_type": "code",
      "metadata": {
        "id": "NZUNVRzq0wzX",
        "colab_type": "code",
        "colab": {
          "base_uri": "https://localhost:8080/",
          "height": 34
        },
        "outputId": "46c13ef1-6bb8-488d-b013-4492220b463d"
      },
      "source": [
        "#using function of reverse of the string\n",
        "def reverseofstring(str):\n",
        "  print(str[::-1])\n",
        "reverseofstring('programming')"
      ],
      "execution_count": 80,
      "outputs": [
        {
          "output_type": "stream",
          "text": [
            "gnimmargorp\n"
          ],
          "name": "stdout"
        }
      ]
    },
    {
      "cell_type": "markdown",
      "metadata": {
        "id": "YmhE8sMb6nPo",
        "colab_type": "text"
      },
      "source": [
        "# String build in methods\n",
        "- upper( )\n",
        "- lower( )\n",
        "- isnumeric( )\n",
        "- isalpha( )\n",
        "- istitle( )\n",
        "- isupper( )\n",
        "- islower( )"
      ]
    },
    {
      "cell_type": "code",
      "metadata": {
        "id": "5ijnMwNX8AHm",
        "colab_type": "code",
        "colab": {
          "base_uri": "https://localhost:8080/",
          "height": 136
        },
        "outputId": "bf364fb2-50ec-440b-9678-ccc9769cd1f9"
      },
      "source": [
        "s1='python'\n",
        "print(s1.upper())\n",
        "print(s1.lower())\n",
        "print(s1.isupper())\n",
        "print(s1.islower())\n",
        "print(s1.istitle())\n",
        "print(s1.isnumeric())\n",
        "print(s1.isalpha())\n"
      ],
      "execution_count": 87,
      "outputs": [
        {
          "output_type": "stream",
          "text": [
            "PYTHON\n",
            "python\n",
            "False\n",
            "True\n",
            "False\n",
            "False\n",
            "True\n"
          ],
          "name": "stdout"
        }
      ]
    },
    {
      "cell_type": "markdown",
      "metadata": {
        "id": "EHIuWORA-Bkk",
        "colab_type": "text"
      },
      "source": [
        "# String Methods\n",
        "- join( )\n",
        "- split( )\n",
        "- replace( )"
      ]
    },
    {
      "cell_type": "code",
      "metadata": {
        "id": "inJkxtqr-hIw",
        "colab_type": "code",
        "colab": {
          "base_uri": "https://localhost:8080/",
          "height": 34
        },
        "outputId": "01334508-3a7b-4b93-ac3c-5a60d04225aa"
      },
      "source": [
        "str='python'\n",
        "print(\"1\".join(s1))"
      ],
      "execution_count": 93,
      "outputs": [
        {
          "output_type": "stream",
          "text": [
            "p1y1t1h1o1n\n"
          ],
          "name": "stdout"
        }
      ]
    },
    {
      "cell_type": "code",
      "metadata": {
        "id": "Mbm4gXZW-4iT",
        "colab_type": "code",
        "colab": {
          "base_uri": "https://localhost:8080/",
          "height": 51
        },
        "outputId": "7af20268-cf6b-4757-f392-3875b33fed13"
      },
      "source": [
        "s1=\"python is easy to learn\"\n",
        "print(s1.split())\n",
        "print(s1.split('a'))"
      ],
      "execution_count": 100,
      "outputs": [
        {
          "output_type": "stream",
          "text": [
            "['python', 'is', 'easy', 'to', 'learn']\n",
            "['python is e', 'sy to le', 'rn']\n"
          ],
          "name": "stdout"
        }
      ]
    },
    {
      "cell_type": "code",
      "metadata": {
        "id": "OaPw6ApJ_WgY",
        "colab_type": "code",
        "colab": {
          "base_uri": "https://localhost:8080/",
          "height": 408
        },
        "outputId": "8f90de03-7ad1-4d03-c697-6ca560590c5f"
      },
      "source": [
        "s1=\"python is easy to learn\"\n",
        "li=list(s1)\n",
        "li"
      ],
      "execution_count": 101,
      "outputs": [
        {
          "output_type": "execute_result",
          "data": {
            "text/plain": [
              "['p',\n",
              " 'y',\n",
              " 't',\n",
              " 'h',\n",
              " 'o',\n",
              " 'n',\n",
              " ' ',\n",
              " 'i',\n",
              " 's',\n",
              " ' ',\n",
              " 'e',\n",
              " 'a',\n",
              " 's',\n",
              " 'y',\n",
              " ' ',\n",
              " 't',\n",
              " 'o',\n",
              " ' ',\n",
              " 'l',\n",
              " 'e',\n",
              " 'a',\n",
              " 'r',\n",
              " 'n']"
            ]
          },
          "metadata": {
            "tags": []
          },
          "execution_count": 101
        }
      ]
    },
    {
      "cell_type": "code",
      "metadata": {
        "id": "vWLhshwQ_wHK",
        "colab_type": "code",
        "colab": {
          "base_uri": "https://localhost:8080/",
          "height": 34
        },
        "outputId": "f7f57297-4b4d-4659-ebb4-e3417969e6eb"
      },
      "source": [
        "str=\"python is easy to learn\"\n",
        "print(s1.replace(\"easy\",\"very easy\"))\n"
      ],
      "execution_count": 102,
      "outputs": [
        {
          "output_type": "stream",
          "text": [
            "python is very easy to learn\n"
          ],
          "name": "stdout"
        }
      ]
    },
    {
      "cell_type": "code",
      "metadata": {
        "id": "kkpZHl06Aqxa",
        "colab_type": "code",
        "colab": {
          "base_uri": "https://localhost:8080/",
          "height": 85
        },
        "outputId": "921a978b-593f-44be-8612-0db2c35bf415"
      },
      "source": [
        "#marks=('peter'=[80,85,90],'joe'=[86,90,95])\n",
        "#op1=[80,85,90]\n",
        "#2.85\n",
        "#3.86\n",
        "#4.[95,90,86]\n",
        "\n",
        "marks={\"peter\":[80,85,90],\"joe\":[86,90,95]}\n",
        "print(marks[\"peter\"])\n",
        "print(marks[\"peter\"][1])\n",
        "print(marks[\"joe\"][0])\n",
        "print(marks[\"joe\"][::-1])"
      ],
      "execution_count": 118,
      "outputs": [
        {
          "output_type": "stream",
          "text": [
            "[80, 85, 90]\n",
            "85\n",
            "86\n",
            "[95, 90, 86]\n"
          ],
          "name": "stdout"
        }
      ]
    }
  ]
}